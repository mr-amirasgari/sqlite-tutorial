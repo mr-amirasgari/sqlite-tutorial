{
 "cells": [
  {
   "cell_type": "markdown",
   "id": "53bcddad",
   "metadata": {},
   "source": [
    "Creating a database connection"
   ]
  },
  {
   "cell_type": "code",
   "execution_count": null,
   "id": "3d1a8ec7",
   "metadata": {},
   "outputs": [],
   "source": [
    "import sqlite3\n",
    "con= sqlite3.connect('name database')\n",
    "#close database\n",
    "con.close()"
   ]
  },
  {
   "cell_type": "markdown",
   "id": "d65da66c",
   "metadata": {},
   "source": [
    "If we want the created database to not be on disk and be on RAM"
   ]
  },
  {
   "cell_type": "code",
   "execution_count": 6,
   "id": "0cc3a949",
   "metadata": {},
   "outputs": [],
   "source": [
    "import sqlite3\n",
    "con = sqlite3.connect(':memory:')\n",
    "con.close()"
   ]
  },
  {
   "cell_type": "markdown",
   "id": "5b846b57",
   "metadata": {},
   "source": [
    "To execute SQLite statements in Python, you need a cursor object. You can create it using the cursor() method."
   ]
  },
  {
   "cell_type": "code",
   "execution_count": 8,
   "id": "9e4f1ec0",
   "metadata": {},
   "outputs": [],
   "source": [
    "import sqlite3\n",
    "con = sqlite3.connect('mydatabase.db')\n",
    "cursorObj = con.cursor()"
   ]
  },
  {
   "cell_type": "markdown",
   "id": "801d3050",
   "metadata": {},
   "source": [
    "Create Table"
   ]
  },
  {
   "cell_type": "code",
   "execution_count": null,
   "id": "7a9abbdd",
   "metadata": {},
   "outputs": [],
   "source": [
    "import sqlite3\n",
    "def sqll_conector(path):\n",
    "    con = sqlite3.connect(path)\n",
    "    cur = con.cursor()\n",
    "    return con,cur\n",
    "#The commit() method saves all the changes we make.\n",
    "#The execute() method is used to run any SQL query.\n",
    "def create_table(con,cur):\n",
    "    cur.execute(\"CREATE TABLE IF NOT EXISTS employees(id integer PRIMARY KEY, name TEXT, salary REAL, department TEXT, position TEXT, hireDate TEXT)\")\n",
    "    con.commit()\n",
    "create_table(con,cur)\n"
   ]
  },
  {
   "cell_type": "markdown",
   "id": "92535530",
   "metadata": {},
   "source": [
    "To insert data into a table, we use the INSERT INTO statement. Consider the following line of code:"
   ]
  },
  {
   "cell_type": "code",
   "execution_count": null,
   "id": "dd7d913a",
   "metadata": {},
   "outputs": [],
   "source": [
    "import sqlite3\n",
    "\n",
    "con = sqlite3.connect('mydatabase.db')\n",
    "\n",
    "def sql_insert(con):\n",
    "\n",
    "    cursorObj = con.cursor()\n",
    "    \n",
    "    cursorObj.execute(\"INSERT INTO employees VALUES(1, 'John', 700, 'HR', 'Manager', '2017-01-04')\")\n",
    "    \n",
    "    con.commit()\n",
    "sql_insert(can)"
   ]
  },
  {
   "cell_type": "markdown",
   "id": "e690be66",
   "metadata": {},
   "source": [
    "We can also pass values/arguments using the INSERT method in the execute() method. You can use a question mark (?) as a placeholder for each value. The INSERT syntax will be as follows:"
   ]
  },
  {
   "cell_type": "code",
   "execution_count": null,
   "id": "adb275b6",
   "metadata": {},
   "outputs": [],
   "source": [
    "import sqlite3\n",
    "\n",
    "con = sqlite3.connect('mydatabase.db')\n",
    "\n",
    "def sql_insert(con, entities):\n",
    "\n",
    "    cursorObj = con.cursor()\n",
    "    \n",
    "    cursorObj.execute('INSERT INTO employees(id, name, salary, department, position, hireDate) VALUES(?, ?, ?, ?, ?, ?)', entities)\n",
    "    \n",
    "    con.commit()\n",
    "\n",
    "entities = (2, 'Andrew', 800, 'IT', 'Tech', '2018-02-06')\n",
    "sql_insert(con, entities)\n"
   ]
  },
  {
   "cell_type": "markdown",
   "id": "2dcc8ac9",
   "metadata": {},
   "source": [
    "To update a table, simply create a connection, then using the connection, create a cursor, and finally use the UPDATE statement in the execute() method. Suppose we want to update the name of an employee whose ID is equal to 2. We will use the UPDATE statement and for the employee whose ID is equal to, we will use the WHERE clause as a condition to select that employee. The SQL code snippet would be as follows:"
   ]
  },
  {
   "cell_type": "code",
   "execution_count": null,
   "id": "77e4eff1",
   "metadata": {},
   "outputs": [],
   "source": [
    "import sqlite3\n",
    "\n",
    "con = sqlite3.connect('mydatabase.db')\n",
    "\n",
    "def sql_update(con):\n",
    "\n",
    "    cursorObj = con.cursor()\n",
    "\n",
    "    cursorObj.execute('UPDATE employees SET name = \"Rogers\" where id = 2')\n",
    "\n",
    "    con.commit()\n",
    "\n",
    "sql_update(con)"
   ]
  },
  {
   "cell_type": "markdown",
   "id": "97be3263",
   "metadata": {},
   "source": [
    "Select statement"
   ]
  },
  {
   "cell_type": "code",
   "execution_count": null,
   "id": "bc06ef2f",
   "metadata": {},
   "outputs": [],
   "source": [
    "#Using SELECT to select data from a specific table, you can use the select statement. If you want to select all data columns from a table, you can use the asterisk (*). The syntax for this is as follows:\n",
    "#If we want to select multiple elements\n",
    "import sqlite3\n",
    "\n",
    "con = sqlite3.connect('mydatabase.db')\n",
    "\n",
    "def sql_fetch(con):\n",
    "\n",
    "    cursorObj = con.cursor()\n",
    "\n",
    "    cursorObj.execute('SELECT * FROM employees')\n",
    "\n",
    "    rows = cursorObj.fetchall()\n",
    "\n",
    "    for row in rows:\n",
    "\n",
    "        print(row)\n",
    "\n",
    "sql_fetch(con)"
   ]
  },
  {
   "cell_type": "markdown",
   "id": "c9cf2da8",
   "metadata": {},
   "source": [
    "If we want to find and close the first required element received by the method"
   ]
  },
  {
   "cell_type": "code",
   "execution_count": null,
   "id": "1f7c5561",
   "metadata": {},
   "outputs": [],
   "source": [
    "import sqlite3\n",
    "\n",
    "con = sqlite3.connect('mydatabase.db')\n",
    "\n",
    "def sql_fetch(con):\n",
    "\n",
    "    cursorObj = con.cursor()\n",
    "\n",
    "    cursorObj.execute('SELECT * FROM employees')\n",
    "\n",
    "    rows = cursorObj.fetchone()\n",
    "\n",
    "    for row in rows:\n",
    "\n",
    "        print(row)\n",
    "\n",
    "sql_fetch(con)"
   ]
  },
  {
   "cell_type": "markdown",
   "id": "85c7f699",
   "metadata": {},
   "source": [
    "Executemany (Bulk insert)"
   ]
  },
  {
   "cell_type": "code",
   "execution_count": null,
   "id": "d4a308b7",
   "metadata": {},
   "outputs": [],
   "source": [
    "#You can use the executemany command to insert multiple rows simultaneously.\n",
    "import sqlite3\n",
    "\n",
    "con = sqlite3.connect('mydatabase.db')\n",
    "\n",
    "cursorObj = con.cursor()\n",
    "\n",
    "cursorObj.execute('create table if not exists projects(id integer, name text)')\n",
    "\n",
    "data = [(1, \"Ridesharing\"), (2, \"Water Purifying\"), (3, \"Forensics\"), (4, \"Botany\")]\n",
    "\n",
    "cursorObj.executemany(\"INSERT INTO projects VALUES(?, ?)\", data)\n",
    "\n",
    "con.commit()"
   ]
  },
  {
   "cell_type": "markdown",
   "id": "68bb82cd",
   "metadata": {},
   "source": [
    "SQLite3 exceptions\n"
   ]
  },
  {
   "cell_type": "markdown",
   "id": "756e46f3",
   "metadata": {},
   "source": [
    "DatabaseError\n",
    "هرگونه خطا در ارتباط با پایگاه داده باعث ایجاد DatabaseError می شود.\n",
    "\n",
    "IntegrityError\n",
    "IntegrityError یکی از زیر گروه های DatabaseError است و در صورت بروز یکپارچگی داده ها مطرح می شود. به عنوان مثال ، داده های خارجی در همه جداول به روز نمی شوند که منجر به ناسازگاری داده ها می شود.\n",
    "\n",
    "ProgrammingError\n",
    "استثنای ProgrammingError وقتی خطاهای نحوی وجود دارد یا جدول پیدا نشده است یا عملکرد با تعداد نامناسب پارامترها / آرگومان ها فراخوانی می شود ، افزایش می یابد.\n",
    "\n",
    "OperationalError\n",
    "این استثنا هنگامی مطرح می شود که عملیات پایگاه داده از کار افتاده باشد ، به عنوان مثال قطع اتصال غیرمعمول. این تقصیر برنامه نویسان نیست.\n",
    "\n",
    "NotSupportedError\n",
    "وقتی از برخی از روش هایی استفاده می کنید که توسط پایگاه داده تعریف نشده یا پشتیبانی نمی شوند ، این امر باعث افزایش استثنا exception NotSupportedError می شود.\n",
    "\n",
    " "
   ]
  }
 ],
 "metadata": {
  "kernelspec": {
   "display_name": "base",
   "language": "python",
   "name": "python3"
  },
  "language_info": {
   "codemirror_mode": {
    "name": "ipython",
    "version": 3
   },
   "file_extension": ".py",
   "mimetype": "text/x-python",
   "name": "python",
   "nbconvert_exporter": "python",
   "pygments_lexer": "ipython3",
   "version": "3.12.9"
  }
 },
 "nbformat": 4,
 "nbformat_minor": 5
}
